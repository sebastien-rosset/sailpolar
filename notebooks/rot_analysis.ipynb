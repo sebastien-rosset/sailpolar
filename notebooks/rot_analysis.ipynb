{
 "cells": [
  {
   "cell_type": "markdown",
   "metadata": {},
   "source": [
    "# Rate of Turn Analysis\n",
    "\n",
    "This notebook demonstrates how to analyze Rate of Turn (ROT) patterns in sailing data using NMEA logs."
   ]
  },
  {
   "cell_type": "code",
   "execution_count": null,
   "metadata": {},
   "outputs": [
    {
     "ename": "",
     "evalue": "",
     "output_type": "error",
     "traceback": [
      "\u001b[1;31mRunning cells with 'Python 3.12.8' requires the ipykernel package.\n",
      "\u001b[1;31mRun the following command to install 'ipykernel' into the Python environment. \n",
      "\u001b[1;31mCommand: '/usr/local/bin/python3.12 -m pip install ipykernel -U --user --force-reinstall'"
     ]
    }
   ],
   "source": [
    "import os\n",
    "import pandas as pd\n",
    "from datetime import timedelta\n",
    "import matplotlib.pyplot as plt\n",
    "import seaborn as sns\n",
    "\n",
    "# Import sailpolar modules\n",
    "from sailpolar.parser.nmea0183 import NMEA0183Parser\n",
    "from sailpolar.analysis.rot_analyzer import ROTAnalyzer\n",
    "from sailpolar.analysis.rot_visualizer import ROTVisualizer\n",
    "\n",
    "# Set up plotting\n",
    "%matplotlib inline\n",
    "plt.style.use('seaborn')"
   ]
  },
  {
   "cell_type": "markdown",
   "metadata": {},
   "source": [
    "## Configure Analysis Parameters\n",
    "\n",
    "Set up the analysis parameters including file path and time windows:"
   ]
  },
  {
   "cell_type": "code",
   "execution_count": 1,
   "metadata": {},
   "outputs": [
    {
     "ename": "NameError",
     "evalue": "name 'timedelta' is not defined",
     "output_type": "error",
     "traceback": [
      "\u001b[0;31m---------------------------------------------------------------------------\u001b[0m",
      "\u001b[0;31mNameError\u001b[0m                                 Traceback (most recent call last)",
      "Cell \u001b[0;32mIn[1], line 2\u001b[0m\n\u001b[1;32m      1\u001b[0m \u001b[38;5;66;03m# Analysis parameters\u001b[39;00m\n\u001b[0;32m----> 2\u001b[0m \u001b[38;5;28;43;01mclass\u001b[39;49;00m\u001b[38;5;250;43m \u001b[39;49m\u001b[38;5;21;43;01mConfig\u001b[39;49;00m\u001b[43m:\u001b[49m\n\u001b[1;32m      3\u001b[0m \u001b[43m    \u001b[49m\u001b[38;5;66;43;03m# File paths\u001b[39;49;00m\n\u001b[1;32m      4\u001b[0m \u001b[43m    \u001b[49m\u001b[43mnmea_file_path\u001b[49m\u001b[43m \u001b[49m\u001b[38;5;241;43m=\u001b[39;49m\u001b[43m \u001b[49m\u001b[38;5;124;43m'\u001b[39;49m\u001b[38;5;124;43m../tests/data/Race-AIS-Sart-10m.txt\u001b[39;49m\u001b[38;5;124;43m'\u001b[39;49m\u001b[43m  \u001b[49m\u001b[38;5;66;43;03m# Update this path for your data\u001b[39;49;00m\n\u001b[1;32m      5\u001b[0m \u001b[43m    \u001b[49m\u001b[43moutput_dir\u001b[49m\u001b[43m \u001b[49m\u001b[38;5;241;43m=\u001b[39;49m\u001b[43m \u001b[49m\u001b[38;5;124;43m'\u001b[39;49m\u001b[38;5;124;43m../tests/output\u001b[39;49m\u001b[38;5;124;43m'\u001b[39;49m\n",
      "Cell \u001b[0;32mIn[1], line 8\u001b[0m, in \u001b[0;36mConfig\u001b[0;34m()\u001b[0m\n\u001b[1;32m      5\u001b[0m output_dir \u001b[38;5;241m=\u001b[39m \u001b[38;5;124m'\u001b[39m\u001b[38;5;124m../tests/output\u001b[39m\u001b[38;5;124m'\u001b[39m\n\u001b[1;32m      7\u001b[0m \u001b[38;5;66;03m# Time windows\u001b[39;00m\n\u001b[0;32m----> 8\u001b[0m rot_window \u001b[38;5;241m=\u001b[39m \u001b[43mtimedelta\u001b[49m(seconds\u001b[38;5;241m=\u001b[39m\u001b[38;5;241m5\u001b[39m)  \u001b[38;5;66;03m# Window for ROT calculation\u001b[39;00m\n\u001b[1;32m      9\u001b[0m stability_window \u001b[38;5;241m=\u001b[39m timedelta(minutes\u001b[38;5;241m=\u001b[39m\u001b[38;5;241m5\u001b[39m)  \u001b[38;5;66;03m# Window for stability analysis\u001b[39;00m\n\u001b[1;32m     11\u001b[0m \u001b[38;5;66;03m# ROT thresholds (degrees/second)\u001b[39;00m\n",
      "\u001b[0;31mNameError\u001b[0m: name 'timedelta' is not defined"
     ]
    }
   ],
   "source": [
    "# Analysis parameters\n",
    "class Config:\n",
    "    # File paths\n",
    "    nmea_file_path = '../tests/data/Race-AIS-Sart-10m.txt'  # Update this path for your data\n",
    "    output_dir = '../tests/output'\n",
    "    \n",
    "    # Time windows\n",
    "    rot_window = timedelta(seconds=5)  # Window for ROT calculation\n",
    "    stability_window = timedelta(minutes=5)  # Window for stability analysis\n",
    "    \n",
    "    # ROT thresholds (degrees/second)\n",
    "    stable_threshold = 1.0  # Maximum ROT for 'stable' classification\n",
    "    small_adjust_threshold = 3.0  # Maximum ROT for 'small adjustments'\n",
    "    deliberate_turn_threshold = 10.0  # Maximum ROT for 'deliberate turn'\n",
    "\n",
    "# Create output directory if it doesn't exist\n",
    "os.makedirs(Config.output_dir, exist_ok=True)"
   ]
  },
  {
   "cell_type": "markdown",
   "metadata": {},
   "source": [
    "## Load and Parse NMEA Data\n",
    "\n",
    "Load the NMEA data from file:"
   ]
  },
  {
   "cell_type": "code",
   "execution_count": null,
   "metadata": {},
   "outputs": [],
   "source": [
    "def load_nmea_data(file_path):\n",
    "    \"\"\"Load and parse NMEA data from file\"\"\"\n",
    "    parser = NMEA0183Parser()\n",
    "    \n",
    "    print(f\"Loading data from {file_path}...\")\n",
    "    parsed_segments, _ = parser.parse_file(file_path)\n",
    "    print(f\"Loaded {len(parsed_segments)} data segment(s)\")\n",
    "    \n",
    "    return parsed_segments\n",
    "\n",
    "# Load the data\n",
    "parsed_segments = load_nmea_data(Config.nmea_file_path)"
   ]
  },
  {
   "cell_type": "markdown",
   "metadata": {},
   "source": [
    "## Analyze Rate of Turn\n",
    "\n",
    "Process the data to calculate ROT and identify patterns:"
   ]
  },
  {
   "cell_type": "code",
   "execution_count": null,
   "metadata": {},
   "outputs": [],
   "source": [
    "def analyze_rot(segments, window_size):\n",
    "    \"\"\"Analyze ROT patterns in the data segments\"\"\"\n",
    "    rot_analyzer = ROTAnalyzer(window_size)\n",
    "    all_rot_data = []\n",
    "    \n",
    "    for i, segment in enumerate(segments):\n",
    "        print(f\"Processing segment {i+1}/{len(segments)}\")\n",
    "        rot_data = rot_analyzer.analyze_segment(segment)\n",
    "        \n",
    "        if not rot_data.empty:\n",
    "            rot_data['segment'] = i\n",
    "            all_rot_data.append(rot_data)\n",
    "    \n",
    "    return pd.concat(all_rot_data, ignore_index=True) if all_rot_data else pd.DataFrame()\n",
    "\n",
    "# Analyze the data\n",
    "combined_rot_data = analyze_rot(parsed_segments, Config.rot_window)\n",
    "\n",
    "# Display basic statistics\n",
    "print(\"\\nROT Pattern Distribution:\")\n",
    "pattern_counts = combined_rot_data['pattern'].value_counts()\n",
    "for pattern, count in pattern_counts.items():\n",
    "    percentage = (count / len(combined_rot_data)) * 100\n",
    "    print(f\"{pattern}: {count} samples ({percentage:.1f}%)\")\n",
    "\n",
    "print(\"\\nROT Statistics:\")\n",
    "display(combined_rot_data['rot'].describe())"
   ]
  },
  {
   "cell_type": "markdown",
   "metadata": {},
   "source": [
    "## Visualize Results\n",
    "\n",
    "Create various visualizations of the ROT patterns:"
   ]
  },
  {
   "cell_type": "code",
   "execution_count": null,
   "metadata": {},
   "outputs": [],
   "source": [
    "def create_visualizations(data, stability_window):\n",
    "    \"\"\"Create and display all ROT visualizations\"\"\"\n",
    "    visualizer = ROTVisualizer()\n",
    "    \n",
    "    # Create all plots with save paths\n",
    "    plots = [\n",
    "        (\"Time Series\", \"time_series.png\", visualizer.plot_time_series),\n",
    "        (\"Pattern Distribution\", \"pattern_distribution.png\", visualizer.plot_pattern_distribution),\n",
    "        (\"Pattern Transitions\", \"pattern_transitions.png\", visualizer.plot_pattern_transitions),\n",
    "        (\"Rose Diagram\", \"rose_diagram.png\", visualizer.plot_rose_diagram)\n",
    "    ]\n",
    "    \n",
    "    for title, filename, plot_func in plots:\n",
    "        print(f\"\\nGenerating {title}...\")\n",
    "        save_path = os.path.join(Config.output_dir, filename)\n",
    "        plot_func(data)\n",
    "        plt.savefig(save_path)\n",
    "        plt.close()\n",
    "        print(f\"Saved to {save_path}\")\n",
    "    \n",
    "    # Stability analysis (returns data)\n",
    "    print(\"\\nGenerating Stability Analysis...\")\n",
    "    save_path = os.path.join(Config.output_dir, \"stability_analysis.png\")\n",
    "    stability_data = visualizer.plot_stability_analysis(data, window_size=stability_window)\n",
    "    plt.savefig(save_path)\n",
    "    plt.close()\n",
    "    print(f\"Saved to {save_path}\")\n",
    "    \n",
    "    return stability_data\n",
    "\n",
    "# Create visualizations\n",
    "stability_data = create_visualizations(combined_rot_data, Config.stability_window)"
   ]
  },
  {
   "cell_type": "markdown",
   "metadata": {},
   "source": [
    "## Analyze Stable Periods\n",
    "\n",
    "Detailed analysis of stable patterns in the data:"
   ]
  },
  {
   "cell_type": "code",
   "execution_count": null,
   "metadata": {},
   "outputs": [],
   "source": [
    "def analyze_stable_periods(data):\n",
    "    \"\"\"Analyze characteristics of stable periods\"\"\"\n",
    "    stable_periods = data[data['pattern'] == 'STABLE'].copy()\n",
    "    \n",
    "    # Calculate stable period statistics\n",
    "    stats = {\n",
    "        'count': len(stable_periods),\n",
    "        'total_duration': stable_periods['duration'].sum(),\n",
    "        'mean_duration': stable_periods['duration'].mean(),\n",
    "        'max_duration': stable_periods['duration'].max(),\n",
    "        'median_duration': stable_periods['duration'].median()\n",
    "    }\n",
    "    \n",
    "    # Print statistics\n",
    "    print(\"Stable Period Analysis:\")\n",
    "    print(f\"Total stable periods: {stats['count']}\")\n",
    "    print(f\"Total time in stable state: {stats['total_duration']:.1f} seconds\")\n",
    "    print(f\"Average period duration: {stats['mean_duration']:.2f} seconds\")\n",
    "    print(f\"Median period duration: {stats['median_duration']:.2f} seconds\")\n",
    "    print(f\"Longest stable period: {stats['max_duration']:.2f} seconds\")\n",
    "    \n",
    "    # Plot duration distribution\n",
    "    plt.figure(figsize=(10, 6))\n",
    "    sns.histplot(data=stable_periods, x='duration', bins=50)\n",
    "    plt.title('Distribution of Stable Period Durations')\n",
    "    plt.xlabel('Duration (seconds)')\n",
    "    plt.ylabel('Count')\n",
    "    \n",
    "    # Save plot\n",
    "    save_path = os.path.join(Config.output_dir, \"stable_period_distribution.png\")\n",
    "    plt.savefig(save_path)\n",
    "    plt.close()\n",
    "    print(f\"\\nSaved duration distribution plot to {save_path}\")\n",
    "    \n",
    "    return stats\n",
    "\n",
    "# Analyze stable periods\n",
    "stable_stats = analyze_stable_periods(combined_rot_data)"
   ]
  },
  {
   "cell_type": "markdown",
   "metadata": {},
   "source": [
    "## Export Analysis Results\n",
    "\n",
    "Save the analysis results to files:"
   ]
  },
  {
   "cell_type": "code",
   "execution_count": null,
   "metadata": {},
   "outputs": [],
   "source": [
    "def export_results(rot_data, stability_data):\n",
    "    \"\"\"Export analysis results to CSV files\"\"\"\n",
    "    # Export ROT analysis\n",
    "    rot_file = os.path.join(Config.output_dir, \"rot_analysis.csv\")\n",
    "    rot_data.to_csv(rot_file, index=False)\n",
    "    print(f\"Exported ROT analysis to {rot_file}\")\n",
    "    \n",
    "    # Export stability analysis\n",
    "    stability_file = os.path.join(Config.output_dir, \"stability_analysis.csv\")\n",
    "    stability_data.to_csv(stability_file)\n",
    "    print(f\"Exported stability analysis to {stability_file}\")\n",
    "\n",
    "# Export all results\n",
    "export_results(combined_rot_data, stability_data)"
   ]
  },
  {
   "cell_type": "markdown",
   "metadata": {},
   "source": [
    "## Interactive Data Exploration\n",
    "\n",
    "Use this section to interactively explore specific aspects of the data:"
   ]
  },
  {
   "cell_type": "code",
   "execution_count": null,
   "metadata": {},
   "outputs": [],
   "source": [
    "# Example: Find longest stable periods\n",
    "longest_stable = combined_rot_data[combined_rot_data['pattern'] == 'STABLE'].nlargest(5, 'duration')\n",
    "print(\"Top 5 longest stable periods:\")\n",
    "display(longest_stable[['timestamp', 'heading', 'rot', 'duration']])\n",
    "\n",
    "# Example: Pattern transitions\n",
    "print(\"\\nPattern transition probabilities:\")\n",
    "transitions = pd.crosstab(combined_rot_data['pattern'].shift(), \n",
    "                         combined_rot_data['pattern'], \n",
    "                         normalize='index')\n",
    "display(transitions.round(3))"
   ]
  }
 ],
 "metadata": {
  "kernelspec": {
   "display_name": "sailpolar-wBd6_stR-py3.13",
   "language": "python",
   "name": "python3"
  },
  "language_info": {
   "codemirror_mode": {
    "name": "ipython",
    "version": 3
   },
   "file_extension": ".py",
   "mimetype": "text/x-python",
   "name": "python",
   "nbconvert_exporter": "python",
   "pygments_lexer": "ipython3",
   "version": "3.13.1"
  }
 },
 "nbformat": 4,
 "nbformat_minor": 4
}
